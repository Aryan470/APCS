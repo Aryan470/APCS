{
 "cells": [
  {
   "cell_type": "markdown",
   "metadata": {},
   "source": [
    "# APCS 2020 Review\n",
    "Welcome to the APCS review, here you will find content summaries of each unit along with code examples to help you build a conceptual and practical understanding of the content.\n",
    "Units on Exam (Covered):\n",
    "\n",
    "    1. Primitive Types\n",
    "    2. Objects\n",
    "    3. Boolean Logic and Conditionals\n",
    "    4. Iteration\n",
    "    5. Classes\n",
    "    6. Arrays\n",
    "    7. ArrayLists\n",
    "Units not on 2020 exam:\n",
    "\n",
    "    8. 2D Arrays\n",
    "    9. Inheritance\n",
    "    10. Recursion"
   ]
  },
  {
   "cell_type": "markdown",
   "metadata": {},
   "source": [
    "## Minimal Fundamentals\n",
    "In this section we will go over the very basics of Java to give you a quick refresher. You can probably skip over this."
   ]
  },
  {
   "cell_type": "code",
   "execution_count": 18,
   "metadata": {},
   "outputs": [
    {
     "name": "stdout",
     "output_type": "stream",
     "text": [
      "printprintln\n",
      "println2\n"
     ]
    }
   ],
   "source": [
    "// Variable declaration is:\n",
    "// Type name;\n",
    "int num;\n",
    "\n",
    "// Variable initialization is:\n",
    "// name = value;\n",
    "num = 5;\n",
    "\n",
    "// Both can be combined with:\n",
    "// Type name = value;\n",
    "int x = 4;\n",
    "\n",
    "// Basic math is performed with:\n",
    "// + - * / %\n",
    "x + 5 == 4 + 5;\n",
    "// Modulo (%) is the remainder in division, ex:\n",
    "x % 3 == 1;\n",
    "\n",
    "// A shorthand for changing a variables value:\n",
    "x = x + 5;\n",
    "x += 5;\n",
    "\n",
    "// Output is done like this:\n",
    "System.out.print(\"print\");\n",
    "System.out.println(\"println\");\n",
    "System.out.println(\"println2\");\n",
    "// print() is used for printing text without moving to the next line\n",
    "// println() prints the text, and \"presses enter\""
   ]
  },
  {
   "cell_type": "markdown",
   "metadata": {},
   "source": [
    "## Primitive Types\n",
    "The types to be seen on the exam are:\n",
    "+ `int` (whole numbers)\n",
    "+ `double` (decimal numbers)\n",
    "+ `boolean` (true or false values)\n",
    "+ `char` (single characters)\n",
    "+ not primitive but important: `String` (text, an array of characters)\n",
    "\n",
    "Tips:\n",
    "+ Integer division will truncate the result, as seen below. For precision beyond whole numbers, use doubles\n",
    "+ Generally, one uses `==` to compare two variables. With strings you have to use `.equals()` to check equality\n",
    "+ Boolean logic is easiest to evaluate inside out\n",
    "+ When converting between types, you must cast to the desired type\n",
    "\n",
    "Boolean comparison table:\n",
    "\n",
    "|   a   | operator |   b   | result |\n",
    "|:-----:|:--------:|:-----:|:------:|\n",
    "|  true |    &&    |  true |  true  |\n",
    "| false |    &&    | false |  false |\n",
    "|  true |   \\|\\|   |  true |  true  |\n",
    "| false |   \\|\\|   | false |  false |\n",
    "|  true |    &&    | false |  false |\n",
    "|  true |   \\|\\|   | false |  true  |\n"
   ]
  },
  {
   "cell_type": "code",
   "execution_count": 4,
   "metadata": {},
   "outputs": [
    {
     "name": "stdout",
     "output_type": "stream",
     "text": [
      "--Integers--\n",
      "5 + 2 = 7\n",
      "5 - 2 = 3\n",
      "5 * 2 = 10\n",
      "5 / 2 = 2\n"
     ]
    }
   ],
   "source": [
    "// Integer usage:\n",
    "int a = 5;\n",
    "int b = 2;\n",
    "\n",
    "System.out.println(\"--Integers--\");\n",
    "System.out.println(a + \" + \" + b + \" = \" + (a + b));\n",
    "System.out.println(a + \" - \" + b + \" = \" + (a - b));\n",
    "System.out.println(a + \" * \" + b + \" = \" + (a * b));\n",
    "System.out.println(a + \" / \" + b + \" = \" + (a / b));"
   ]
  },
  {
   "cell_type": "code",
   "execution_count": 7,
   "metadata": {},
   "outputs": [
    {
     "name": "stdout",
     "output_type": "stream",
     "text": [
      "--Doubles--\n",
      "20.0 + 0.5 = 20.5\n",
      "20.0 - 0.5 = 19.5\n",
      "20.0 * 0.5 = 10.0\n",
      "20.0 / 0.5 = 40.0\n"
     ]
    }
   ],
   "source": [
    "// Double usage:\n",
    "double a = 20;\n",
    "double b = 0.5;\n",
    "\n",
    "System.out.println(\"--Doubles--\");\n",
    "System.out.println(a + \" + \" + b + \" = \" + (a + b));\n",
    "System.out.println(a + \" - \" + b + \" = \" + (a - b));\n",
    "System.out.println(a + \" * \" + b + \" = \" + (a * b));\n",
    "System.out.println(a + \" / \" + b + \" = \" + (a / b));"
   ]
  },
  {
   "cell_type": "code",
   "execution_count": 16,
   "metadata": {},
   "outputs": [
    {
     "name": "stdout",
     "output_type": "stream",
     "text": [
      "--Booleans--\n",
      "Negation:\n",
      "!true = false\n",
      "!false = true\n",
      "\n",
      "Boolean Operators:\n",
      "true  && true = true\n",
      "false && false = false\n",
      "\n",
      "true  || true = true\n",
      "false || false = false\n",
      "\n",
      "true && false = false\n",
      "true || false = true\n"
     ]
    }
   ],
   "source": [
    "// Boolean usage:\n",
    "boolean a = true;\n",
    "boolean b = false;\n",
    "\n",
    "System.out.println(\"--Booleans--\");\n",
    "System.out.println(\"Negation:\");\n",
    "System.out.println(\"!\" + a + \" = \" + !a);\n",
    "System.out.println(\"!\" + b + \" = \" + !b);\n",
    "System.out.println();\n",
    "\n",
    "System.out.println(\"Boolean Operators:\");\n",
    "System.out.println(a + \"  && \" + a + \" = \" + (a && a));\n",
    "System.out.println(b + \" && \" + b + \" = \" + (b && b));\n",
    "System.out.println();\n",
    "\n",
    "System.out.println(a + \"  || \" + a + \" = \" + (a || a));\n",
    "System.out.println(b + \" || \" + b + \" = \" + (b || b));\n",
    "System.out.println();\n",
    "\n",
    "System.out.println(a + \" && \" + b + \" = \" + (a && b));\n",
    "System.out.println(a + \" || \" + b + \" = \" + (a || b));"
   ]
  },
  {
   "cell_type": "code",
   "execution_count": 18,
   "metadata": {},
   "outputs": [
    {
     "name": "stdout",
     "output_type": "stream",
     "text": [
      "Name: Will\n"
     ]
    }
   ],
   "source": [
    "// Basic String usage\n",
    "String name = \"Will\";\n",
    "System.out.println(\"Name: \" + name);"
   ]
  },
  {
   "cell_type": "code",
   "execution_count": 8,
   "metadata": {},
   "outputs": [
    {
     "name": "stdout",
     "output_type": "stream",
     "text": [
      "10 -> 10.0\n",
      "2.5 -> 2\n"
     ]
    }
   ],
   "source": [
    "// Casting\n",
    "int x = 10;\n",
    "double newx = (double) (x);\n",
    "\n",
    "double y = 2.5;\n",
    "int newy = (int) (y);\n",
    "\n",
    "System.out.println(x + \" -> \" + newx);\n",
    "System.out.println(y + \" -> \" + newy);"
   ]
  },
  {
   "cell_type": "code",
   "execution_count": null,
   "metadata": {},
   "outputs": [],
   "source": []
  }
 ],
 "metadata": {
  "kernelspec": {
   "display_name": "Java",
   "language": "java",
   "name": "java"
  },
  "language_info": {
   "codemirror_mode": "java",
   "file_extension": ".jshell",
   "mimetype": "text/x-java-source",
   "name": "Java",
   "pygments_lexer": "java",
   "version": "10.0.1+10"
  }
 },
 "nbformat": 4,
 "nbformat_minor": 4
}
