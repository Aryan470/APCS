{
 "cells": [
  {
   "cell_type": "markdown",
   "metadata": {},
   "source": [
    "# APCS 2020 Review\n",
    "Welcome to the APCS review, here you will find content summaries of each unit along with code examples to help you build a conceptual and practical understanding of the content.\n",
    "Units on Exam:\n",
    "\n",
    "1. [Primitive Types](#Primitive-Types)\n",
    "2. [Using Objects](#Using-Objects)\n",
    "3. [Boolean Logic and Conditionals](#Booleans-and-Conditionals)\n",
    "4. [Iteration](#Iteration)\n",
    "    + [For Loops](#For-Loop-Syntax)\n",
    "    + [While Loops](#While-Loop-Syntax)\n",
    "    + [Searching and Sorting](#Searching-and-Sorting)\n",
    "5. [Writing Classes](#Writing-Classes)\n",
    "    + [Writing Methods](#Writing-Methods)\n",
    "6. [Arrays](#Arrays)\n",
    "7. [ArrayLists](#ArrayLists)\n",
    "\n",
    "Units not on 2020 exam (still important):\n",
    "\n",
    "8. 2D Arrays\n",
    "9. Inheritance\n",
    "10. Recursion"
   ]
  },
  {
   "cell_type": "markdown",
   "metadata": {},
   "source": [
    "## Minimal Fundamentals\n",
    "In this section we will go over the very basics of Java to give you a quick refresher. You can probably skip over this."
   ]
  },
  {
   "cell_type": "markdown",
   "metadata": {},
   "source": [
    "Variable declaration is: Type name;\n",
    "\n",
    "```int num;```\n",
    "\n",
    "Variable initialization is: name = value;  \n",
    "\n",
    "```num = 5;```\n",
    "\n",
    "Both can be combined with: Type name = value;\n",
    "\n",
    "```int num = 5;```\n",
    "\n",
    "Basic math is performed with the following operators: + - * /\n",
    "\n",
    "```x + 5;```\n",
    "\n",
    "Modulo (%) is the remainder in division, ex:\n",
    "\n",
    "```5 % 3 == 2;```\n",
    "\n",
    "A shorthand for changing a variables value:\n",
    "\n",
    "```java\n",
    "x = x + 5;\n",
    "x += 5;\n",
    "x++; // increments by 1\n",
    "```\n",
    "\n",
    "Output is done like this:\n",
    "\n",
    "```java\n",
    "System.out.print(\"print\"); \n",
    "System.out.println(\"println\"); // print() is used for printing text without moving to the next line\n",
    "System.out.println(\"println2\"); // println() prints the text, and \"presses enter\"\n",
    "```\n",
    "\n",
    "The cell below runs some java code to demonstrate these features:"
   ]
  },
  {
   "cell_type": "code",
   "execution_count": 1,
   "metadata": {},
   "outputs": [
    {
     "name": "stdout",
     "output_type": "stream",
     "text": [
      "5\n"
     ]
    }
   ],
   "source": [
    "// Declaration\n",
    "int num;\n",
    "\n",
    "// Initialization\n",
    "num = 5;\n",
    "\n",
    "System.out.println(num);\n",
    "\n",
    "// Both\n",
    "int x = 4;"
   ]
  },
  {
   "cell_type": "code",
   "execution_count": 2,
   "metadata": {},
   "outputs": [
    {
     "name": "stdout",
     "output_type": "stream",
     "text": [
      "9\n",
      "1\n"
     ]
    }
   ],
   "source": [
    "// Addition example\n",
    "System.out.println(x + 5); // 4 + 5 = 9\n",
    "\n",
    "// Modulo (%) is the remainder in division, ex:\n",
    "System.out.println(x % 3); // 4/3 has a remainder of 1"
   ]
  },
  {
   "cell_type": "code",
   "execution_count": 3,
   "metadata": {},
   "outputs": [
    {
     "name": "stdout",
     "output_type": "stream",
     "text": [
      "9\n",
      "14\n",
      "15\n",
      "14\n"
     ]
    }
   ],
   "source": [
    "// A shorthand for changing a variables value:\n",
    "x = x + 5;\n",
    "System.out.println(x); // 4 + 5 = 9\n",
    "x += 5; \n",
    "System.out.println(x); // 9 + 5 = 14\n",
    "x++;\n",
    "System.out.println(x); // 14 + 1 = 15 \n",
    "x--;\n",
    "System.out.println(x); // 15 - 1 = 14"
   ]
  },
  {
   "cell_type": "code",
   "execution_count": 4,
   "metadata": {},
   "outputs": [
    {
     "name": "stdout",
     "output_type": "stream",
     "text": [
      "printprintln\n",
      "println2\n"
     ]
    }
   ],
   "source": [
    "// Printing:\n",
    "System.out.print(\"print\"); \n",
    "System.out.println(\"println\");\n",
    "System.out.println(\"println2\");\n",
    "// print() is used for printing text without moving to the next line\n",
    "// println() prints the text, and \"presses enter\""
   ]
  },
  {
   "cell_type": "markdown",
   "metadata": {},
   "source": [
    "## Primitive Types\n",
    "The types to be seen on the exam are:\n",
    "+ `int` (whole numbers)\n",
    "+ `double` (decimal numbers)\n",
    "+ `boolean` (true or false values)\n",
    "+ `char` (single characters)\n",
    "+ not primitive but important: `String` (text, an array of characters)\n",
    "\n",
    "Tips:\n",
    "+ Integer division will truncate the result, as seen below. For precision beyond whole numbers, use doubles\n",
    "+ Generally, one uses `==` to compare two variables. With strings you have to use `.equals()` to check equality\n",
    "+ Boolean logic is easiest to evaluate inside out\n",
    "+ When converting between types, you must cast to the desired type\n",
    "\n",
    "Boolean comparison table:\n",
    "\n",
    "|   a   | operator |   b   | result |\n",
    "|:-----:|:--------:|:-----:|:------:|\n",
    "|  true |    &&    |  true |  true  |\n",
    "| false |    &&    | false |  false |\n",
    "|  true |   \\|\\|   |  true |  true  |\n",
    "| false |   \\|\\|   | false |  false |\n",
    "|  true |    &&    | false |  false |\n",
    "|  true |   \\|\\|   | false |  true  |\n"
   ]
  },
  {
   "cell_type": "code",
   "execution_count": 5,
   "metadata": {},
   "outputs": [
    {
     "name": "stdout",
     "output_type": "stream",
     "text": [
      "--Integers--\n",
      "5 + 2 = 7\n",
      "5 - 2 = 3\n",
      "5 * 2 = 10\n",
      "5 / 2 = 2\n"
     ]
    }
   ],
   "source": [
    "// Integer usage:\n",
    "int a = 5;\n",
    "int b = 2;\n",
    "\n",
    "System.out.println(\"--Integers--\");\n",
    "System.out.println(a + \" + \" + b + \" = \" + (a + b));\n",
    "System.out.println(a + \" - \" + b + \" = \" + (a - b));\n",
    "System.out.println(a + \" * \" + b + \" = \" + (a * b));\n",
    "System.out.println(a + \" / \" + b + \" = \" + (a / b));"
   ]
  },
  {
   "cell_type": "code",
   "execution_count": 6,
   "metadata": {},
   "outputs": [
    {
     "name": "stdout",
     "output_type": "stream",
     "text": [
      "--Doubles--\n",
      "20.0 + 0.5 = 20.5\n",
      "20.0 - 0.5 = 19.5\n",
      "20.0 * 0.5 = 10.0\n",
      "20.0 / 0.5 = 40.0\n"
     ]
    }
   ],
   "source": [
    "// Double usage:\n",
    "double a = 20;\n",
    "double b = 0.5;\n",
    "\n",
    "System.out.println(\"--Doubles--\");\n",
    "System.out.println(a + \" + \" + b + \" = \" + (a + b));\n",
    "System.out.println(a + \" - \" + b + \" = \" + (a - b));\n",
    "System.out.println(a + \" * \" + b + \" = \" + (a * b));\n",
    "System.out.println(a + \" / \" + b + \" = \" + (a / b));"
   ]
  },
  {
   "cell_type": "code",
   "execution_count": 7,
   "metadata": {},
   "outputs": [
    {
     "name": "stdout",
     "output_type": "stream",
     "text": [
      "--Booleans--\n",
      "Negation:\n",
      "!true = false\n",
      "!false = true\n"
     ]
    }
   ],
   "source": [
    "// Boolean usage:\n",
    "boolean a = true;\n",
    "boolean b = false;\n",
    "\n",
    "System.out.println(\"--Booleans--\");\n",
    "System.out.println(\"Negation:\");\n",
    "System.out.println(\"!\" + a + \" = \" + !a);\n",
    "System.out.println(\"!\" + b + \" = \" + !b);"
   ]
  },
  {
   "cell_type": "code",
   "execution_count": 8,
   "metadata": {},
   "outputs": [
    {
     "name": "stdout",
     "output_type": "stream",
     "text": [
      "Boolean Operators:\n",
      "true  && true = true\n",
      "false && false = false\n"
     ]
    }
   ],
   "source": [
    "System.out.println(\"Boolean Operators:\");\n",
    "System.out.println(a + \"  && \" + a + \" = \" + (a && a));\n",
    "System.out.println(b + \" && \" + b + \" = \" + (b && b));"
   ]
  },
  {
   "cell_type": "code",
   "execution_count": 9,
   "metadata": {},
   "outputs": [
    {
     "name": "stdout",
     "output_type": "stream",
     "text": [
      "true  || true = true\n",
      "false || false = false\n"
     ]
    }
   ],
   "source": [
    "System.out.println(a + \"  || \" + a + \" = \" + (a || a));\n",
    "System.out.println(b + \" || \" + b + \" = \" + (b || b));"
   ]
  },
  {
   "cell_type": "code",
   "execution_count": 10,
   "metadata": {},
   "outputs": [
    {
     "name": "stdout",
     "output_type": "stream",
     "text": [
      "true && false = false\n",
      "true || false = true\n"
     ]
    }
   ],
   "source": [
    "System.out.println(a + \" && \" + b + \" = \" + (a && b));\n",
    "System.out.println(a + \" || \" + b + \" = \" + (a || b));"
   ]
  },
  {
   "cell_type": "code",
   "execution_count": 11,
   "metadata": {},
   "outputs": [
    {
     "name": "stdout",
     "output_type": "stream",
     "text": [
      "Name: Will\n"
     ]
    }
   ],
   "source": [
    "// Basic String usage\n",
    "String name = \"Will\";\n",
    "System.out.println(\"Name: \" + name);"
   ]
  },
  {
   "cell_type": "code",
   "execution_count": 12,
   "metadata": {},
   "outputs": [
    {
     "name": "stdout",
     "output_type": "stream",
     "text": [
      "10 -> 10.0\n",
      "2.5 -> 2\n"
     ]
    }
   ],
   "source": [
    "// Casting\n",
    "int x = 10;\n",
    "double newx = (double) (x);\n",
    "\n",
    "double y = 2.5;\n",
    "int newy = (int) (y);\n",
    "\n",
    "System.out.println(x + \" -> \" + newx);\n",
    "System.out.println(y + \" -> \" + newy);"
   ]
  },
  {
   "cell_type": "markdown",
   "metadata": {},
   "source": [
    "## Using Objects\n",
    "Here we'll review some commonly used objects such as the `Math`, `Scanner`, `String` classes.\n",
    "+ `Math`: has methods for more complex mathematical tasks.\n",
    "+ `Scanner`: used to get input from the console or files\n",
    "+ `String`: array of chars for storing text"
   ]
  },
  {
   "cell_type": "markdown",
   "metadata": {},
   "source": [
    "### Important Math methods\n",
    "+ `sqrt(x)`: returns the square root of x\n",
    "+ `pow(base, x)`: returns base to the power of x\n",
    "+ `log(x)`: returns the natural log of x\n",
    "+ `log10(x)`: returns the log base 10 of x\n",
    "+ `random()`: returns a random number between 0 and 1, but cannot be 1. Can be scaled through multiplication, addition, and subtraction to fit any range you like"
   ]
  },
  {
   "cell_type": "code",
   "execution_count": 13,
   "metadata": {},
   "outputs": [
    {
     "name": "stdout",
     "output_type": "stream",
     "text": [
      "sqrt(9): 3.0\n",
      "3^2 or pow(3, 2): 9.0\n",
      "ln(2.71828) -> log(): 0.999999327347282\n",
      "log10(1000) -> log10(): 3.0\n"
     ]
    }
   ],
   "source": [
    "// Common Math methods:\n",
    "System.out.println(\"sqrt(9): \" + Math.sqrt(9));\n",
    "System.out.println(\"3^2 or pow(3, 2): \" + Math.pow(3, 2));\n",
    "System.out.println(\"ln(2.71828) -> log(): \" + Math.log(2.71828));\n",
    "System.out.println(\"log10(1000) -> log10(): \" + Math.log10(1000));"
   ]
  },
  {
   "cell_type": "code",
   "execution_count": 14,
   "metadata": {},
   "outputs": [
    {
     "name": "stdout",
     "output_type": "stream",
     "text": [
      "random in [0.0, 1.0) -> random(): 0.1373309264115663\n",
      "random in [0.0, 5.0) -> random() * 5: 2.1038970109982618\n",
      "random in [-1.0, 1.0) -> random() * 2 - 1.0: 0.7678465968088832\n"
     ]
    }
   ],
   "source": [
    "System.out.println(\"random in [0.0, 1.0) -> random(): \" + Math.random());\n",
    "System.out.println(\"random in [0.0, 5.0) -> random() * 5: \" + Math.random() * 5);\n",
    "System.out.println(\"random in [-1.0, 1.0) -> random() * 2 - 1.0: \" + (Math.random() * 2 - 1.0));"
   ]
  },
  {
   "cell_type": "code",
   "execution_count": 15,
   "metadata": {},
   "outputs": [
    {
     "name": "stdout",
     "output_type": "stream",
     "text": [
      "Math.PI: 3.141592653589793\n",
      "Math.E: 2.718281828459045\n"
     ]
    }
   ],
   "source": [
    "// Common Math constants:\n",
    "System.out.println(\"Math.PI: \" + Math.PI);\n",
    "System.out.println(\"Math.E: \" + Math.E);"
   ]
  },
  {
   "cell_type": "markdown",
   "metadata": {},
   "source": [
    "### Scanner Usage:\n",
    "To use a scanner, you must create a Scanner object and give it `System.in` for user input. This is shown below. The scanner has many methods that do the same thing for different data types, below I will put an `X` where the name of a data type can go. Supported data types with scanners include int, double, boolean, and String. For String, X is empty. For any other type, just fill in the X with what you need.\n",
    "\n",
    "Important methods:\n",
    "+ `hasNextX()`: ignoring any whitespace, returns a boolean whether there is a next token and it is type `X`\n",
    "+ `nextX()`: if `hasNextX()` is true, returns the next `X` from its input"
   ]
  },
  {
   "cell_type": "code",
   "execution_count": 16,
   "metadata": {},
   "outputs": [
    {
     "name": "stdout",
     "output_type": "stream",
     "text": [
      "Enter a number: "
     ]
    },
    {
     "name": "stdin",
     "output_type": "stream",
     "text": [
      " 3\n"
     ]
    },
    {
     "name": "stdout",
     "output_type": "stream",
     "text": [
      "Number you entered: 3\n"
     ]
    }
   ],
   "source": [
    "// Scanner usage:\n",
    "// 1. Declare and initialize for console input\n",
    "// Type name = new Type();\n",
    "Scanner console = new Scanner(System.in);\n",
    "\n",
    "// Show prompt\n",
    "System.out.print(\"Enter a number: \");\n",
    "// calling console.nextInt() will get int from user\n",
    "// console.next() gives a word\n",
    "// console.nextDouble() gives double\n",
    "int x = console.nextInt();\n",
    "System.out.println(\"Number you entered: \" + x);"
   ]
  },
  {
   "cell_type": "code",
   "execution_count": 17,
   "metadata": {},
   "outputs": [
    {
     "name": "stdout",
     "output_type": "stream",
     "text": [
      "apcs_will_be_the_easiest_exam_"
     ]
    }
   ],
   "source": [
    "// Scanner can also be used on a string\n",
    "String text = \"apcs will be the easiest exam\";\n",
    "Scanner textReader = new Scanner(text);\n",
    "\n",
    "// This loop will run over and over until textReader runs out of words to give\n",
    "while (textReader.hasNext()) {\n",
    "    System.out.print(textReader.next() + \"_\");\n",
    "}"
   ]
  },
  {
   "cell_type": "markdown",
   "metadata": {},
   "source": [
    "### Important String methods\n",
    "+ `length()`: returns the length of the string. ex: `\"abcde\".length()` will be `5`\n",
    "+ `substring(int a)`: returns the string starting at index `a`. ex: `\"01234\".substring(2)` will be `\"234\"`\n",
    "+ `substring(int a, int b)`: returns the string starting at index `a`, ending at `b` exclusive. ex: `\"01234\".substring(1, 3)` will be `\"12\"`\n",
    "+ `charAt(int a)`: returns the char at index `a`. ex: `\"abcde\".charAt(2)` is `'c'`\n",
    "+ `indexOf(String target)`: returns index of `target` in the string, and `-1` if not found. ex: `\"abc april\".indexOf(\"bc\")` is `1`\n",
    "+ `split(String delimiter)`: splits the string up by the delimeter and returns the array of results. ex: `\"word1 word2\".split(\" \")` is `[\"word1\", \"word2\"]`\n",
    "\n",
    "    Note: you can add strings or characters with +. ex: `\"abc\" + \"def\"` will give `\"abcdef\"`"
   ]
  },
  {
   "cell_type": "code",
   "execution_count": 18,
   "metadata": {},
   "outputs": [
    {
     "name": "stdout",
     "output_type": "stream",
     "text": [
      "index:01234567890123456789012345678\n",
      "text: apcs will be the easiest exam\n",
      "text.length(): 29\n",
      "text.substring(11): e the easiest exam\n",
      "text.substring(0, 11): apcs will b\n",
      "text.charAt(13): t\n",
      "text.indexOf(\"easiest\"): 17\n",
      "text.split(\" \"): [apcs, will, be, the, easiest, exam]\n",
      "text.split(\"e\"): [apcs will b,  th,  , asi, st , xam]\n"
     ]
    }
   ],
   "source": [
    "// String usage\n",
    "String text = \"apcs will be the easiest exam\";\n",
    "\n",
    "// Adding indexes for reference:\n",
    "System.out.print(\"index:\");\n",
    "for (int i = 0; i < text.length(); i++) System.out.print(i % 10);\n",
    "System.out.println(\"\\ntext: \" + text);\n",
    "\n",
    "System.out.println(\"text.length(): \" + text.length());\n",
    "System.out.println(\"text.substring(11): \" + text.substring(11));\n",
    "System.out.println(\"text.substring(0, 11): \" + text.substring(0, 11));\n",
    "System.out.println(\"text.charAt(13): \" + text.charAt(13));\n",
    "System.out.println(\"text.indexOf(\\\"easiest\\\"): \" + text.indexOf(\"easiest\"));\n",
    "System.out.println(\"text.split(\\\" \\\"): \" + Arrays.toString(text.split(\" \")));\n",
    "System.out.println(\"text.split(\\\"e\\\"): \" + Arrays.toString(text.split(\"e\")));"
   ]
  },
  {
   "cell_type": "markdown",
   "metadata": {},
   "source": [
    "## Booleans and Conditionals\n",
    "In this section we will review boolean usage and conditional statements\n",
    "\n",
    "Conditional structures:\n",
    "+ `if (this) {A}`: if `this` is true, then run `A`\n",
    "+ `if (this) {A} else {B}`: same as first, but if `this` is false, run `B`. Only A or B can be run, not both\n",
    "+ `if (this) {A} else if (that) {B} else {C}` same as second but if `that` is true, then run `B`. Only one of A, B, or C can be run."
   ]
  },
  {
   "cell_type": "code",
   "execution_count": 19,
   "metadata": {},
   "outputs": [
    {
     "name": "stdout",
     "output_type": "stream",
     "text": [
      "x + 1 == y\n"
     ]
    }
   ],
   "source": [
    "int x = 5;\n",
    "int y = 6;\n",
    "\n",
    "if (x == y) {\n",
    "    System.out.println(\"x == y\");\n",
    "} else if (x + 1 == y) {\n",
    "    System.out.println(\"x + 1 == y\");\n",
    "} else {\n",
    "    System.out.println(\"x != y and x + 1 != y\");\n",
    "}"
   ]
  },
  {
   "cell_type": "code",
   "execution_count": 20,
   "metadata": {},
   "outputs": [
    {
     "name": "stdout",
     "output_type": "stream",
     "text": [
      "x == y - 1\n",
      "x + 1 == y\n"
     ]
    }
   ],
   "source": [
    "if (x == y - 1) {\n",
    "    System.out.println(\"x == y - 1\");\n",
    "}\n",
    "if (x + 1 == y) {\n",
    "    System.out.println(\"x + 1 == y\");\n",
    "}"
   ]
  },
  {
   "cell_type": "code",
   "execution_count": 21,
   "metadata": {},
   "outputs": [
    {
     "name": "stdout",
     "output_type": "stream",
     "text": [
      "a is not b\n",
      "a or b is true\n"
     ]
    }
   ],
   "source": [
    "boolean a = true;\n",
    "boolean b = false;\n",
    "if (a && b) {\n",
    "    System.out.println(\"a and b are true\");\n",
    "} else if (a != b) {\n",
    "    System.out.println(\"a is not b\");\n",
    "}\n",
    "\n",
    "if (a || b) {\n",
    "    System.out.println(\"a or b is true\");\n",
    "}"
   ]
  },
  {
   "cell_type": "markdown",
   "metadata": {},
   "source": [
    "## Iteration\n",
    "Here we'll review iterative structures such as the for loop and while loop\n",
    "\n",
    "Tips:\n",
    "+ Use for loop for a known number of iterations (ex: going from 1 to 10)\n",
    "+ Use while loop for an unknown number of iterations (ex: going until you find a number divisible by 24 and 49)"
   ]
  },
  {
   "cell_type": "markdown",
   "metadata": {},
   "source": [
    "### For Loop Syntax\n",
    "\n",
    "```java\n",
    "for (init; condition; statement) {\n",
    "    code;\n",
    "}\n",
    "```\n",
    "\n",
    "Upon reaching the for loop, `init` is run. Then, if `condition` is true, `code` will be run. Next, `statement` is run. `condition` is checked again and the process cycles.\n",
    "\n",
    "`init`->`condition`->`code`->`statement`->`condition`"
   ]
  },
  {
   "cell_type": "code",
   "execution_count": 22,
   "metadata": {},
   "outputs": [
    {
     "name": "stdout",
     "output_type": "stream",
     "text": [
      "01234"
     ]
    }
   ],
   "source": [
    "for (int i = 0; i < 5; i++) {\n",
    "    System.out.print(i);\n",
    "}"
   ]
  },
  {
   "cell_type": "code",
   "execution_count": 23,
   "metadata": {},
   "outputs": [
    {
     "name": "stdout",
     "output_type": "stream",
     "text": [
      "10 9 8 7 6 5 4 3 2 1 "
     ]
    }
   ],
   "source": [
    "for (int i = 10; i > 0; i--) {\n",
    "    System.out.print(i + \" \");\n",
    "}"
   ]
  },
  {
   "cell_type": "code",
   "execution_count": 24,
   "metadata": {},
   "outputs": [
    {
     "name": "stdout",
     "output_type": "stream",
     "text": [
      "1 2 4 8 "
     ]
    }
   ],
   "source": [
    "for (int i = 1; i < 10; i *= 2) {\n",
    "    System.out.print(i + \" \");\n",
    "}"
   ]
  },
  {
   "cell_type": "markdown",
   "metadata": {},
   "source": [
    "### While Loop Syntax\n",
    "\n",
    "```java\n",
    "while (condition) {\n",
    "    code;\n",
    "}\n",
    "```\n",
    "\n",
    "Upon reaching the loop, if `condition` is true, `code` will be run. Then `condition` is checked again, and it keeps running."
   ]
  },
  {
   "cell_type": "code",
   "execution_count": 25,
   "metadata": {},
   "outputs": [
    {
     "name": "stdout",
     "output_type": "stream",
     "text": [
      "People: 10\n",
      "Pizzas: 0\n"
     ]
    }
   ],
   "source": [
    "int numPeople = 10;\n",
    "int numPizzas = 0;\n",
    "\n",
    "System.out.println(\"People: \" + numPeople);\n",
    "System.out.println(\"Pizzas: \" + numPizzas);"
   ]
  },
  {
   "cell_type": "code",
   "execution_count": 26,
   "metadata": {},
   "outputs": [
    {
     "name": "stdout",
     "output_type": "stream",
     "text": [
      "People: 10\n",
      "Pizzas: 10\n"
     ]
    }
   ],
   "source": [
    "while (numPizzas < numPeople) {\n",
    "    numPizzas += 1;\n",
    "}\n",
    "\n",
    "System.out.println(\"People: \" + numPeople);\n",
    "System.out.println(\"Pizzas: \" + numPizzas);"
   ]
  },
  {
   "cell_type": "code",
   "execution_count": 27,
   "metadata": {},
   "outputs": [
    {
     "name": "stdout",
     "output_type": "stream",
     "text": [
      "People: 0\n",
      "Pizzas: 10\n"
     ]
    }
   ],
   "source": [
    "while (numPeople > 0) {\n",
    "    numPeople -= 1;\n",
    "}\n",
    "\n",
    "System.out.println(\"People: \" + numPeople);\n",
    "System.out.println(\"Pizzas: \" + numPizzas);"
   ]
  },
  {
   "cell_type": "markdown",
   "metadata": {},
   "source": [
    "### Searching and Sorting\n",
    "#### Searching: Iterative Search\n",
    "With regards to searching an unsorted list, or even a small/medium unsorted one, the best way is a simple loop through each element. Note the amount of time this method takes is linearly proportional to the length of the list. An array with 10x more elements will, on average, take 10x longer.\n",
    "\n",
    "*Note: If you are unfamiliar with the fundamentals of arrays and ArrayLists, read about them [here](#Arrays)*"
   ]
  },
  {
   "cell_type": "code",
   "execution_count": 28,
   "metadata": {},
   "outputs": [
    {
     "name": "stdout",
     "output_type": "stream",
     "text": [
      "Target found at index 5\n"
     ]
    }
   ],
   "source": [
    "Integer[] searchMe = {1, 53, 8, 42, 59, 33, 2, 591, 52};\n",
    "Integer target = 33;\n",
    "int index = 0;\n",
    "\n",
    "// Note the order of the conditions: if you reached the end, don't bother to check the array or it'll be out of bounds\n",
    "while (index < searchMe.length && !searchMe[index].equals(target)) {\n",
    "    index += 1;\n",
    "}\n",
    "// Either the index is equal to the length, or we found the element\n",
    "if (index == searchMe.length) {\n",
    "    System.out.println(\"Target not found\");\n",
    "} else {\n",
    "    System.out.println(\"Target found at index \" + index);\n",
    "}"
   ]
  },
  {
   "cell_type": "markdown",
   "metadata": {},
   "source": [
    "#### Sorting: Selection Sort\n",
    "Selection sort is one of the main sorting algorithms in APCS, and it is straightforward when analyzed step by step.\n",
    "\n",
    "1. Split the list into sorted and unsorted, and initially all elements are unsorted\n",
    "2. Find the minimum in the unsorted part\n",
    "3. Swap it with the leftmost element in the unsorted part\n",
    "4. That element is now sorted, go to step 2 until you reach the second to last\n",
    "5. The final one is sorted because the rest are\n",
    "\n",
    "Split, Minimum, Swap, Repeat\n",
    "\n",
    "In practice, this is pretty easy to implement. Keep in mind we have the for loop wrapped around steps 2 and 3 to go from the start to the end of the list. Additionally, if you are wondering about the method, read the section on [writing methods](#Writing-Methods)"
   ]
  },
  {
   "cell_type": "code",
   "execution_count": 29,
   "metadata": {},
   "outputs": [],
   "source": [
    "public void selectionSort(int[] arr) {\n",
    "    // Step 1: Split into sorted/unsorted\n",
    "    // We use sortedIndex as our marker\n",
    "    for (int sortedIndex = 0; sortedIndex < arr.length - 1; sortedIndex++) {\n",
    "        // Step 2: Find minimum in unsorted section\n",
    "        int minIndex = sortedIndex;\n",
    "        for (int i = sortedIndex; i < arr.length; i++) {\n",
    "            if (arr[i] < arr[minIndex]) {\n",
    "                minIndex = i;\n",
    "            }\n",
    "        }\n",
    "        // i is now the index of the minimum in the unsorted section\n",
    "\n",
    "        // Step 3: Swap the first unsorted with the minimum\n",
    "        int temp = arr[sortedIndex];\n",
    "        arr[sortedIndex] = arr[minIndex];\n",
    "        arr[minIndex] = temp;\n",
    "        // Add a print statement to show the list at each iteration\n",
    "        System.out.println(Arrays.toString(arr));\n",
    "    }\n",
    "}"
   ]
  },
  {
   "cell_type": "code",
   "execution_count": 30,
   "metadata": {},
   "outputs": [
    {
     "name": "stdout",
     "output_type": "stream",
     "text": [
      "Unsorted: [4, 17, 84, 55]\n",
      "[4, 17, 84, 55]\n",
      "[4, 17, 84, 55]\n",
      "[4, 17, 55, 84]\n",
      "Sorted: [4, 17, 55, 84]\n",
      "\n",
      "Unsorted: [39, 24, 12, 0, 59]\n",
      "[0, 24, 12, 39, 59]\n",
      "[0, 12, 24, 39, 59]\n",
      "[0, 12, 24, 39, 59]\n",
      "[0, 12, 24, 39, 59]\n",
      "Sorted: [0, 12, 24, 39, 59]\n"
     ]
    }
   ],
   "source": [
    "int[] sortMe = {4, 17, 84, 55};\n",
    "System.out.println(\"Unsorted: \" + Arrays.toString(sortMe));\n",
    "selectionSort(sortMe);\n",
    "System.out.println(\"Sorted: \" + Arrays.toString(sortMe));\n",
    "\n",
    "int[] sortMe = {39, 24, 12, 0, 59};\n",
    "System.out.println(\"\\nUnsorted: \" + Arrays.toString(sortMe));\n",
    "selectionSort(sortMe);\n",
    "System.out.println(\"Sorted: \" + Arrays.toString(sortMe));"
   ]
  },
  {
   "cell_type": "markdown",
   "metadata": {},
   "source": [
    "#### Sorting: Insertion Sort\n",
    "Insertion sort is also straightforward, and somewhat more efficient than selection sort. It is very similar, here are the steps:\n",
    "\n",
    "1. Mark the first element as sorted\n",
    "2. Look at the first unsorted element, `X`\n",
    "3. Search the sorted section right to left until you find an element, `Y`, smaller than `X`\n",
    "4. Insert `X` to the right of `Y`, and move the barrier between unsorted and sorted\n",
    "5. Go to step 2 until the whole list is sorted\n",
    "\n",
    "Note that this is best implemented with an arraylist because of the insertion involved."
   ]
  },
  {
   "cell_type": "code",
   "execution_count": 31,
   "metadata": {},
   "outputs": [],
   "source": [
    "public void insertionSort(ArrayList<Integer> aList) {\n",
    "    // Step 1 & 5\n",
    "    for (int sortedIndex = 1; sortedIndex < aList.size(); sortedIndex++) {\n",
    "        // Step 2\n",
    "        // The element to be moved is at sortedIndex, its potential spot is newIndex\n",
    "        int newIndex = sortedIndex;\n",
    "        \n",
    "        // Step 3\n",
    "        while (newIndex > 0 && aList.get(newIndex - 1) > aList.get(sortedIndex)) {\n",
    "            newIndex -= 1;\n",
    "        }\n",
    "        // Step 4\n",
    "        // Now we are either at index 0 or the new position for the element to be moved\n",
    "        aList.add(newIndex, aList.remove(sortedIndex));\n",
    "    }\n",
    "}"
   ]
  },
  {
   "cell_type": "code",
   "execution_count": 32,
   "metadata": {},
   "outputs": [
    {
     "name": "stdout",
     "output_type": "stream",
     "text": [
      "Unsorted: [-4, 63, 35, 3, 20, 44, -40]\n",
      "Sorted: [-40, -4, 3, 20, 35, 44, 63]\n"
     ]
    }
   ],
   "source": [
    "Integer[] sortArr = {-4, 63, 35, 3, 20, 44, -40};\n",
    "ArrayList<Integer> sortAL = new ArrayList<Integer>(Arrays.asList(sortArr));\n",
    "System.out.println(\"Unsorted: \" + sortAL);\n",
    "insertionSort(sortAL);\n",
    "System.out.println(\"Sorted: \" + sortAL);"
   ]
  },
  {
   "cell_type": "markdown",
   "metadata": {},
   "source": [
    "## Writing Classes\n",
    "This is by far one of the most intricate topics in APCS, so it is important to have a good intuition of the topic.\n",
    "\n",
    "Before we get into classes, let's do a quick review of writing methods."
   ]
  },
  {
   "cell_type": "markdown",
   "metadata": {},
   "source": [
    "### Writing Methods\n",
    "Methods are a powerful tool in computer science, and are used to reduce redundancy (repetition) and bring structure to a program. The generic method looks like:\n",
    "\n",
    "```java\n",
    "// Header\n",
    "access (static) Type name(ParamType param, AnotherParamType anotherParam,...) {\n",
    "    // Body\n",
    "    code;\n",
    "    code;\n",
    "    return result;\n",
    "}\n",
    "```\n",
    "Let's break this down:\n",
    "+ `access`: this is a keyword representing the level of access for the method. If public, then anyone can call the method. If private, it can only be called inside the class.\n",
    "+ `(static)`: this keyword can either be present or absent, and determines if the method is static (more on that below)\n",
    "+ `Type`: when writing a method, you must declare the type that it will return, whether it be `int`, `boolean`, or even an object. Additionally, if the method does not return anything, then `Type` must be void\n",
    "+ `name`: name of the method, concise and summarizes the function\n",
    "+ `ParamType`/`AnotherParamType`: if the method has parameters, you must list the type for each\n",
    "+ `param`/`anotherParam`: these are the names of the parameters. Keep in mind that when calling the method the names do not matter, only the order\n",
    "+ `code`: you can put any code you like inside the method, and it can access `param` and `anotherParam`\n",
    "+ `return result`: for a non-void method (returns something), you must have this statement in any possible path in your method. Additionally, `result` must be of the `Type` you declared in the header\n",
    "\n",
    "Let's look at some methods:"
   ]
  },
  {
   "cell_type": "markdown",
   "metadata": {},
   "source": [
    "#### `getRandom(int a, int b)`\n",
    "This method utilizes `Math.random()` to generate an integer from a up to b. Do not worry about the implementation, focus on the method header.\n",
    "\n",
    "+ `public` tells us that anyone can call this method, not just other methods in the class\n",
    "+ `int` tells us the return type of this method; whenever we call this method we can be 100% sure that it will return an int\n",
    "+ `getRandom` is a descriptive, concise name\n",
    "+ `int a` and `int b` are the parameters for the method, notice that we have to explicitly define the types\n",
    "+ `return (int) (result)` is the final statement that will give the value `result` as an integer back to the caller of the method"
   ]
  },
  {
   "cell_type": "code",
   "execution_count": 33,
   "metadata": {},
   "outputs": [
    {
     "name": "stdout",
     "output_type": "stream",
     "text": [
      "5 9 1 7 4 1 9 7 4 9 3 4 1 5 3 6 8 3 7 1 "
     ]
    }
   ],
   "source": [
    "// Returns a random number between a and b exclusive\n",
    "public int getRandom(int a, int b) {\n",
    "    double result = Math.random();\n",
    "    int range = b - a;\n",
    "    result *= range;\n",
    "    result += a;\n",
    "    return (int) (result);\n",
    "}\n",
    "\n",
    "for (int i = 0; i < 20; i++) {\n",
    "    System.out.print(getRandom(1, 10) + \" \");\n",
    "}"
   ]
  },
  {
   "cell_type": "markdown",
   "metadata": {},
   "source": [
    "#### `reverseArray(int[] arr)`\n",
    "This method will take an array and reverse it. The important thing about this example is the usage of reference semantics. When a parameter of a method is an object (such as an array), the reference will be passed into the method, not a copy of the object. If I call `reverseArray(myArr)`, by design, it will modify `myArr`. This is why the method is void."
   ]
  },
  {
   "cell_type": "code",
   "execution_count": 34,
   "metadata": {},
   "outputs": [
    {
     "name": "stdout",
     "output_type": "stream",
     "text": [
      "[1, 2, 3, 4, 5, 6, 7, 8, 9]\n",
      "Reversed!\n",
      "[9, 8, 7, 6, 5, 4, 3, 2, 1]\n",
      "Reversed!\n",
      "[1, 2, 3, 4, 5, 6, 7, 8, 9]\n"
     ]
    }
   ],
   "source": [
    "// Reverses an array of ints\n",
    "public void reverseArray(int[] arr) {\n",
    "    for (int i = 0; i < arr.length / 2; i++) {\n",
    "        int temp = arr[i];\n",
    "        arr[i] = arr[arr.length - 1 - i];\n",
    "        arr[arr.length - 1 - i] = temp;\n",
    "    }\n",
    "    System.out.println(\"Reversed!\");\n",
    "}\n",
    "\n",
    "int[] myArr = {1, 2, 3, 4, 5, 6, 7, 8, 9};\n",
    "System.out.println(Arrays.toString(myArr));\n",
    "reverseArray(myArr);\n",
    "System.out.println(Arrays.toString(myArr));\n",
    "reverseArray(myArr);\n",
    "System.out.println(Arrays.toString(myArr));"
   ]
  },
  {
   "cell_type": "markdown",
   "metadata": {},
   "source": [
    "### Class Definition\n",
    "\n",
    "A class is a \"template\" for an object. For example, if `Car` is a class, then `myHondaAccord` is a `Car` object. An object (instance) is an example of a class. `lily` is an instance of the `Dog` class. Classes and objects are defined by 2 things, state and behavior. These are represented with fields (variables) and methods respectively. Take an example `Dog` class:"
   ]
  },
  {
   "cell_type": "code",
   "execution_count": 35,
   "metadata": {},
   "outputs": [],
   "source": [
    "// For convenience, I will not make the instance fields private. Know that they 100% should be private.\n",
    "// Class header\n",
    "public class Dog {\n",
    "    // Instance Fields\n",
    "    String name;\n",
    "    \n",
    "    // Static Fields\n",
    "    static int numLegs = 4;\n",
    "    static String foodType = \"meat\";\n",
    "    \n",
    "    // Constructor\n",
    "    public Dog(String name) {\n",
    "        this.name = name;\n",
    "    }\n",
    "    \n",
    "    // Instance method bark\n",
    "    public void bark() {\n",
    "        System.out.println(\"woof\");\n",
    "    }\n",
    "    \n",
    "    // Static method getFoodType\n",
    "    public static String getFoodType() {\n",
    "        return foodType;\n",
    "    }\n",
    "    \n",
    "    public String toString() {\n",
    "        return name + \" (Dog)\";\n",
    "    }\n",
    "}"
   ]
  },
  {
   "cell_type": "markdown",
   "metadata": {},
   "source": [
    "### Fields\n",
    "The distinction between classes and objects allows us to define 2 types of fields and methods: static (shared) and instance (individual). A static field in the `Dog` class could be `hasTail`, a boolean with a value that is the same across all instances. An instance field would be `name`, which varies depending on which instance (dog) you are talking about. The purpose of static fields is general values such as constants across all instances. Static fields can be accessed with `Type.field` while instance fields are accessed with `object.field`. Another thing to note is that there is only one value of a static field that is used by all instances, where instance fields are unique and private. Take a look at this example:"
   ]
  },
  {
   "cell_type": "code",
   "execution_count": 36,
   "metadata": {},
   "outputs": [
    {
     "name": "stdout",
     "output_type": "stream",
     "text": [
      "Lily\n",
      "4\n",
      "4\n"
     ]
    },
    {
     "ename": "CompilationException",
     "evalue": "",
     "output_type": "error",
     "traceback": [
      "\u001b[1m\u001b[30m|   \u001b[1m\u001b[30mSystem.out.println(\u001b[0m\u001b[1m\u001b[30m\u001b[41mDog.name\u001b[0m\u001b[1m\u001b[30m); // does not exist, will cause error\u001b[0m",
      "\u001b[1m\u001b[31mnon-static variable name cannot be referenced from a static context\u001b[0m",
      ""
     ]
    }
   ],
   "source": [
    "Dog lily = new Dog(\"Lily\");\n",
    "\n",
    "System.out.println(lily.name); // \"Lily\"\n",
    "System.out.println(Dog.numLegs); // 4\n",
    "\n",
    "System.out.println(lily.numLegs); // 4\n",
    "System.out.println(Dog.name); // does not exist, will cause error"
   ]
  },
  {
   "cell_type": "markdown",
   "metadata": {},
   "source": [
    "### Methods\n",
    "We have the same thing with methods, where static methods are shared across instances and vice versa. Static methods are used for utility operations whereas instance methods are used when the method needs information from instance fields for an action specific to one instance. Here's an example:"
   ]
  },
  {
   "cell_type": "code",
   "execution_count": 37,
   "metadata": {},
   "outputs": [
    {
     "name": "stdout",
     "output_type": "stream",
     "text": [
      "meat\n",
      "meat\n",
      "woof\n"
     ]
    },
    {
     "ename": "CompilationException",
     "evalue": "",
     "output_type": "error",
     "traceback": [
      "\u001b[1m\u001b[30m|   \u001b[1m\u001b[30m\u001b[0m\u001b[1m\u001b[30m\u001b[41mDog.bark\u001b[0m\u001b[1m\u001b[30m(); // this doesn't work, will cause error\u001b[0m",
      "\u001b[1m\u001b[31mnon-static method bark() cannot be referenced from a static context\u001b[0m",
      ""
     ]
    }
   ],
   "source": [
    "Dog lily = new Dog(\"Lily\");\n",
    "\n",
    "System.out.println(Dog.getFoodType()); // \"meat\"\n",
    "System.out.println(lily.getFoodType()); // \"meat\"\n",
    "\n",
    "lily.bark(); // Lily barks\n",
    "Dog.bark(); // this doesn't work, will cause error"
   ]
  },
  {
   "cell_type": "markdown",
   "metadata": {},
   "source": [
    "### Constructors\n",
    "Here is the constructor from the `Dog` class, let's take a closer look at it.\n",
    "```java\n",
    "public Dog(String name) {\n",
    "    this.name = name;\n",
    "}\n",
    "```\n",
    "The important things here are the header and the instance field assignment. The header for any constructor will be `public Type(params)` where `Type` is the name of the class. This is an important thing to remember as it's different from other methods.\n",
    "\n",
    "Next, look at the line in the constructor. Since we have a collision between the instance field `name` and the parameter `name`, how will the computer know which is which? We use the `this` keyword to solve this. The `this` keyword will always refer to this instance, so in the line in the constructor we are setting the instance field `this.name` to the parameter `name`'s value."
   ]
  },
  {
   "cell_type": "markdown",
   "metadata": {},
   "source": [
    "### toString()\n",
    "The `toString` method is an optional method included in classes that is used whenever an instance is referred to as a string. This is more straightforward than it sounds. Look at the `toString` for the `Dog` class:\n",
    "\n",
    "```java\n",
    "public String toString() {\n",
    "    return name + \" (Dog)\";\n",
    "}\n",
    "```\n",
    "\n",
    "Whenever this method is called, it will return the `name` of the `Dog` it was called on plus some clarification as to the class. The toString method makes it much easier to display the state of the instance. We can see this in action with a simple comparison between the `Dog` toString and the default `Object` toString:"
   ]
  },
  {
   "cell_type": "code",
   "execution_count": 38,
   "metadata": {},
   "outputs": [
    {
     "name": "stdout",
     "output_type": "stream",
     "text": [
      "Lily (Dog)\n",
      "java.lang.Object@581191dc\n"
     ]
    }
   ],
   "source": [
    "Dog lily = new Dog(\"Lily\");\n",
    "Object bad = new Object();\n",
    "\n",
    "System.out.println(lily);\n",
    "System.out.println(bad);"
   ]
  },
  {
   "cell_type": "markdown",
   "metadata": {},
   "source": [
    "### A proper example\n",
    "This is a `Vector` class I wrote awhile ago, and I think it would be useful to read through the annotations and understand the design choices made."
   ]
  },
  {
   "cell_type": "code",
   "execution_count": 39,
   "metadata": {},
   "outputs": [],
   "source": [
    "public class Vector {\n",
    "    // Instance fields\n",
    "    private int x;\n",
    "    private int y;\n",
    "    \n",
    "    // i and j basis vectors, static because constants\n",
    "    public static final Vector i = new Vector(1, 0);\n",
    "    public static final Vector j = new Vector(0, 1);\n",
    "\n",
    "    // Constructor to take (x, y) and make new vector\n",
    "    public Vector(int x, int y) {\n",
    "        this.x = x;\n",
    "        this.y = y;\n",
    "    }\n",
    "    \n",
    "    // Constructor to duplicate another vector\n",
    "    public Vector(Vector v) {\n",
    "        this.x = v.getX();\n",
    "        this.y = v.getY();\n",
    "    }\n",
    "\n",
    "    // Find the distance from this vector to the other:\n",
    "    // d(v1, v2) = sqrt((dx)^2 + (dy)^2)\n",
    "    public double getDistance(Vector v) {\n",
    "        int dx = v.getX() - x;\n",
    "        int dy = v.getY() - y;\n",
    "        return Math.sqrt(dx * dx + dy * dy);\n",
    "    }\n",
    "\n",
    "    // Add two vectors: V1 + V2 = [V1x + V2x, V1y + V2y]\n",
    "    public Vector addVector(Vector v) {\n",
    "        int newX = x + v.getX();\n",
    "        int newY = y + v.getY();\n",
    "        return new Vector(newX, newY);\n",
    "    }\n",
    "\n",
    "    // Scale a vector: V * k = [Vx * k, Vy * k]\n",
    "    public Vector scale(double scalar) {\n",
    "        int newX = (int) (x * scalar);\n",
    "        int newY = (int) (y * scalar);\n",
    "        return new Vector(newX, newY);\n",
    "    }\n",
    "\n",
    "    // Get the X value\n",
    "    public int getX() { return x; }\n",
    "\n",
    "    // Get the Y value\n",
    "    public int getY() { return y; }\n",
    "\n",
    "    // Show vector state\n",
    "    public String toString() {\n",
    "        return \"(\" + x + \", \" + y + \")\";\n",
    "    }\n",
    "}"
   ]
  },
  {
   "cell_type": "code",
   "execution_count": 40,
   "metadata": {},
   "outputs": [
    {
     "name": "stdout",
     "output_type": "stream",
     "text": [
      "i: (1, 0)\n",
      "j: (0, 1)\n",
      "\n",
      "V1: (1, 2)\n",
      "V2: (4, 6)\n",
      "\n",
      "V1.getDistance(V2): 5.0\n",
      "V1.addVector(V2): (5, 8)\n",
      "V1.scale(2): (2, 4)\n"
     ]
    }
   ],
   "source": [
    "Vector V1 = new Vector(1, 2);\n",
    "Vector V2 = new Vector(4, 6);\n",
    "System.out.println(\"i: \" + Vector.i);\n",
    "System.out.println(\"j: \" + Vector.j);\n",
    "System.out.println();\n",
    "\n",
    "System.out.println(\"V1: \" + V1);\n",
    "System.out.println(\"V2: \" + V2);\n",
    "System.out.println();\n",
    "\n",
    "System.out.println(\"V1.getDistance(V2): \" + V1.getDistance(V2));\n",
    "System.out.println(\"V1.addVector(V2): \" + V1.addVector(V2));\n",
    "System.out.println(\"V1.scale(2): \" + V1.scale(2));"
   ]
  },
  {
   "cell_type": "markdown",
   "metadata": {},
   "source": [
    "## Arrays\n",
    "Arrays are an integral part of computer science. Their function is to hold a defined number of a certain type. You can have an array of ints, chars, Strings, Dogs, or anything you like. The most significant limitation of arrays is their static size, meaning they cannot grow to fit more elements. This has its pros and cons, but here we will address the syntax:"
   ]
  },
  {
   "cell_type": "markdown",
   "metadata": {},
   "source": [
    "### Declaration and Initialization\n",
    "\n",
    "```java\n",
    "Type[] name = new Type[num];\n",
    "```\n",
    "\n",
    "`Type` is the class of items in the array, `name` is the variable to hold the reference to the array, and `num` is the number of items that the array can hold. You may notice that there is a `new` keyword in the intialization. This indicates that arrays are actually objects. So one thing to keep in mind is `name` does not refer to the array itself, but a reference. If you call a method with it like `copy(name)`, that method receives the reference, not the array. So any changes on will be seen by both sides."
   ]
  },
  {
   "cell_type": "code",
   "execution_count": 41,
   "metadata": {},
   "outputs": [],
   "source": [
    "// Initialize blank\n",
    "int[] arr = new int[3];\n",
    "\n",
    "// Initialize with elements:\n",
    "int[] arr = {1, 2, 3};"
   ]
  },
  {
   "cell_type": "markdown",
   "metadata": {},
   "source": [
    "### Accessing and Modifying\n",
    "```java\n",
    "// Accessing\n",
    "Type a = name[i];\n",
    "\n",
    "// Modifying\n",
    "Type b = new Type();\n",
    "name[i] = b;\n",
    "```\n",
    "\n",
    "This syntax is straightforward. The example shown takes the element of `name` at index `i` and puts it into `a` (the same type as the array). Looking at modification, this is intuitive. We create a new `Type` with reference `b`, and set `name`'s `i`th element to be `b`. Here is an example:"
   ]
  },
  {
   "cell_type": "code",
   "execution_count": 42,
   "metadata": {},
   "outputs": [
    {
     "name": "stdout",
     "output_type": "stream",
     "text": [
      "arr[2]: 3\n",
      "arr[2]: 100\n"
     ]
    }
   ],
   "source": [
    "System.out.println(\"arr[2]: \" + arr[2]);\n",
    "arr[2] = 100;\n",
    "System.out.println(\"arr[2]: \" + arr[2]);"
   ]
  },
  {
   "cell_type": "markdown",
   "metadata": {},
   "source": [
    "### Iteration with Arrays\n",
    "#### For Loops\n",
    "For loops make it very easy to iterate through an array. The general syntax is:\n",
    "\n",
    "```java\n",
    "for (int i = 0; i < arr.length; i++) {\n",
    "    code(arr[i]);\n",
    "}\n",
    "```\n",
    "\n",
    "This loop will go through all the indexes from 0 to `arr.length - 1`, all the valid indexes. At each index, it will call `code(element)` for the element in `arr` at `i`.\n",
    "\n",
    "Another type of iteration is a for-each loop, which makes it even easier to look at all the elements in an array. However, you cannot use a for-each loop if:\n",
    "+ you need access to the indexes (`i`)\n",
    "+ you need to modify the array"
   ]
  },
  {
   "cell_type": "markdown",
   "metadata": {},
   "source": [
    "#### For-Each Loops\n",
    "Here is the syntax for a for-each loop:\n",
    "\n",
    "```java\n",
    "for (int x : arr) {\n",
    "    code(x);\n",
    "}\n",
    "```\n",
    "\n",
    "This loop will go through each `int` `x` in `arr` and call `code(x)`. This loop can make things much more convenient or inconvenient, so use your judgement to see which one fits the problem best. If in doubt, use the traditional for loop.\n",
    "\n",
    "Let's look at some common examples for ideas you could implement."
   ]
  },
  {
   "cell_type": "code",
   "execution_count": 43,
   "metadata": {},
   "outputs": [
    {
     "name": "stdout",
     "output_type": "stream",
     "text": [
      "[Marie, Smith, John, Michael, Arjun]\n"
     ]
    }
   ],
   "source": [
    "// Make an array of names\n",
    "String[] classNames = new String[5];\n",
    "classNames[0] = \"Marie\";\n",
    "classNames[1] = \"Smith\";\n",
    "classNames[2] = \"John\";\n",
    "classNames[3] = \"Michael\";\n",
    "classNames[4] = \"Arjun\";\n",
    "\n",
    "// We will use Arrays.toString to print the array, otherwise it will give us a reference to the array, not its elements\n",
    "System.out.println(Arrays.toString(classNames));"
   ]
  },
  {
   "cell_type": "code",
   "execution_count": 44,
   "metadata": {},
   "outputs": [
    {
     "name": "stdout",
     "output_type": "stream",
     "text": [
      "Marie and Smith and John and Michael and Arjun and "
     ]
    }
   ],
   "source": [
    "// Print every name\n",
    "// Something to think about: How do you fix the extra \"and\"?\n",
    "for (String name : classNames) {\n",
    "    System.out.print(name + \" and \");\n",
    "}"
   ]
  },
  {
   "cell_type": "code",
   "execution_count": 45,
   "metadata": {},
   "outputs": [
    {
     "name": "stdout",
     "output_type": "stream",
     "text": [
      "Arjun Michael John Smith Marie "
     ]
    }
   ],
   "source": [
    "// Print the names backwards\n",
    "for (int i = classNames.length - 1; i >= 0; i--) {\n",
    "    System.out.print(classNames[i] + \" \");\n",
    "}"
   ]
  },
  {
   "cell_type": "code",
   "execution_count": 46,
   "metadata": {},
   "outputs": [
    {
     "name": "stdout",
     "output_type": "stream",
     "text": [
      "[Marie, Smith, John, Michael, Arjun]\n",
      "[Arjun, Michael, John, Smith, Marie]\n"
     ]
    }
   ],
   "source": [
    "// Reverse the array itself\n",
    "System.out.println(Arrays.toString(classNames));\n",
    "for (int i = 0; i < classNames.length / 2; i++) {\n",
    "    String tempName = classNames[i];\n",
    "    classNames[i] = classNames[classNames.length - 1 - i];\n",
    "    classNames[classNames.length - 1 - i] = tempName;\n",
    "}\n",
    "System.out.println(Arrays.toString(classNames));"
   ]
  },
  {
   "cell_type": "code",
   "execution_count": 47,
   "metadata": {},
   "outputs": [
    {
     "name": "stdout",
     "output_type": "stream",
     "text": [
      "[Arjun, Michael, John, Smith, Marie]\n",
      "[Arjun (Student), Michael (Student), John (Student), Smith (Student), Marie]\n"
     ]
    }
   ],
   "source": [
    "// Add a clarification to all the names\n",
    "System.out.println(Arrays.toString(classNames));\n",
    "for (int i = 0; i < classNames.length - 1; i++) {\n",
    "    classNames[i] += \" (Student)\";\n",
    "}\n",
    "System.out.println(Arrays.toString(classNames));"
   ]
  },
  {
   "cell_type": "markdown",
   "metadata": {},
   "source": [
    "# ArrayLists\n",
    "\n",
    "## Definitions\n",
    "Array Lists are an incredibly powerful data structure that is covered in this class.\n",
    "\n",
    "Array Lists are very similar to arrays in the respect that they are able to store multiple instances of the same primitive type and objects. However, the key difference is that their size changes automatically. \n",
    "\n",
    "Think of this like a todo list your phone. You can keep adding tasks to your todo list and its size grows to accomodate the new item(s) added. Furthermore you can pass something simple like a title (e.g. Do homework) or add more details to your task (like how you can store primitives and objects). Regardless of the complexity of these tasks, however, they are all treated like objects (ArrayLists do not take in (int)'s but rather (Integer)'s).\n",
    "\n",
    "## Constructing an array list"
   ]
  },
  {
   "cell_type": "code",
   "execution_count": 48,
   "metadata": {},
   "outputs": [],
   "source": [
    "ArrayList al = new ArrayList(); // creating old non-generic arraylist\n",
    "ArrayList<String> al = new ArrayList<String>(); // creating new generic arraylist (preferred)"
   ]
  },
  {
   "cell_type": "markdown",
   "metadata": {},
   "source": [
    "## Methods\n",
    "\n",
    "The following methods are in the java quick reference but here's a quick review of them.  \n",
    "\n",
    "`size()`: returns the number of elements in the list  \n",
    "`add(obj)`: adds an object to the end of the list and returns true  \n",
    "`add(index, obj)`: adds an object to the list at a specified index  \n",
    "`get(index)`: gets an object at the specified index  \n",
    "`set(index, obj)`: sets an object at the specified index and returns object formerly in that position\n",
    "`remove(index)`: removes an object at the specified index, shifts objects after the removed one down a spot, and returns the object removed  "
   ]
  },
  {
   "cell_type": "markdown",
   "metadata": {},
   "source": [
    "## Notes:\n",
    "- get, set, and remove all return an object at a specified position. For example:"
   ]
  },
  {
   "cell_type": "code",
   "execution_count": 49,
   "metadata": {},
   "outputs": [],
   "source": [
    "Integer[] testCases = {1, 1, 2, 2, 3, 4, 5};\n",
    "ArrayList<Integer> nums = new ArrayList<Integer>();"
   ]
  },
  {
   "cell_type": "code",
   "execution_count": 50,
   "metadata": {},
   "outputs": [],
   "source": [
    "// for each loop (works on arrays and arraylists) to add all values of testCases to nums\n",
    "for (int num : testCases) {\n",
    "    nums.add(num);\n",
    "}"
   ]
  },
  {
   "cell_type": "code",
   "execution_count": 51,
   "metadata": {},
   "outputs": [
    {
     "name": "stdout",
     "output_type": "stream",
     "text": [
      "1\n",
      "[1, 2, 2, 3, 4, 5]\n"
     ]
    }
   ],
   "source": [
    "// for an arraylist named nums containing: [1, 2, 3, 4, 5]\n",
    "System.out.println(nums.remove(0)); // removes item at 0 (1) and returned value \n",
    "System.out.println(nums);"
   ]
  },
  {
   "cell_type": "markdown",
   "metadata": {},
   "source": [
    "- also remember that remove takes an object away from the list so you have to be careful whenever you iterate through the list with that method:"
   ]
  },
  {
   "cell_type": "code",
   "execution_count": 52,
   "metadata": {},
   "outputs": [
    {
     "name": "stdout",
     "output_type": "stream",
     "text": [
      "[1, 2, 2, 3, 4, 5]\n",
      "[1, 2, 3, 4, 5]\n",
      "[1, 2, 3, 4, 5]\n",
      "[1, 2, 3, 4, 5]\n",
      "[1, 2, 3, 4, 5]\n"
     ]
    }
   ],
   "source": [
    "// for an arraylist named nums containing: [1, 2, 2, 3, 4, 5]\n",
    "// this for loop is to remove all instances of 2 in nums\n",
    "for (int i = 0; i < nums.size(); i++) {\n",
    "    if (nums.get(i) == 2) {\n",
    "        nums.remove(i);\n",
    "    }\n",
    "    System.out.println(nums);\n",
    "}"
   ]
  },
  {
   "cell_type": "markdown",
   "metadata": {},
   "source": [
    "The previous code will remove the 2 at index 1 and shift all the elements of the arraylist down. That means that the second 2 is now at index one. The i gets incremented and skips over that second 2.\n",
    "\n",
    "\n",
    "See the following code examples for solutions:"
   ]
  },
  {
   "cell_type": "code",
   "execution_count": 53,
   "metadata": {},
   "outputs": [
    {
     "name": "stdout",
     "output_type": "stream",
     "text": [
      "Solution - Iterating backwards:\n",
      "[1, 1, 2, 2, 3, 4, 5]\n",
      "[1, 1, 2, 2, 3, 4, 5]\n",
      "[1, 1, 2, 2, 3, 4, 5]\n",
      "[1, 1, 2, 3, 4, 5]\n",
      "[1, 1, 3, 4, 5]\n",
      "[1, 1, 3, 4, 5]\n",
      "[1, 1, 3, 4, 5]\n"
     ]
    }
   ],
   "source": [
    "// solutions for code ex\n",
    "System.out.println(\"Solution - Iterating backwards:\");\n",
    "// iterating backwards\n",
    "nums = new ArrayList<Integer>(Arrays.asList(testCases));\n",
    "for (int i = nums.size() - 1; i >= 0; i--) {\n",
    "  if (nums.get(i) == 2) {\n",
    "      nums.remove(i);\n",
    "  }\n",
    "  System.out.println(nums);\n",
    "}"
   ]
  },
  {
   "cell_type": "code",
   "execution_count": 54,
   "metadata": {},
   "outputs": [
    {
     "name": "stdout",
     "output_type": "stream",
     "text": [
      "Solution - While loop:\n",
      "[1, 1, 2, 2, 3, 4, 5]\n",
      "[1, 1, 2, 2, 3, 4, 5]\n",
      "[1, 1, 3, 4, 5]\n",
      "[1, 1, 3, 4, 5]\n",
      "[1, 1, 3, 4, 5]\n"
     ]
    }
   ],
   "source": [
    "System.out.println(\"Solution - While loop:\");\n",
    "// while loop\n",
    "nums = new ArrayList<Integer>(Arrays.asList(testCases));\n",
    "for (int i = 0; i < nums.size(); i++) {\n",
    "  while (nums.get(i) == 2) {\n",
    "      nums.remove(i);\n",
    "  }\n",
    "  System.out.println(nums);\n",
    "}"
   ]
  }
 ],
 "metadata": {
  "kernelspec": {
   "display_name": "Java",
   "language": "java",
   "name": "java"
  },
  "language_info": {
   "codemirror_mode": "java",
   "file_extension": ".jshell",
   "mimetype": "text/x-java-source",
   "name": "Java",
   "pygments_lexer": "java",
   "version": "10.0.1+10"
  }
 },
 "nbformat": 4,
 "nbformat_minor": 4
}
