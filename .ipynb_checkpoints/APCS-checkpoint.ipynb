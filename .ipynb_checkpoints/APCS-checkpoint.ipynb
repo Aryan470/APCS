{
 "cells": [
  {
   "cell_type": "markdown",
   "metadata": {},
   "source": [
    "# APCS 2020 Review\n",
    "Welcome to the APCS review, here you will find content summaries of each unit along with code examples to help you build a conceptual and practical understanding of the content.\n",
    "Units on Exam (Covered):\n",
    "\n",
    "    1. Primitive Types\n",
    "    2. Objects\n",
    "    3. Boolean Logic and Conditionals\n",
    "    4. Iteration\n",
    "    5. Classes\n",
    "    6. Arrays\n",
    "    7. ArrayLists\n",
    "Units not on 2020 exam:\n",
    "\n",
    "    8. 2D Arrays\n",
    "    9. Inheritance\n",
    "    10. Recursion"
   ]
  },
  {
   "cell_type": "markdown",
   "metadata": {},
   "source": [
    "## Minimal Fundamentals\n",
    "In this section we will go over the very basics of Java to give you a quick refresher. You can probably skip over this."
   ]
  },
  {
   "cell_type": "markdown",
   "metadata": {},
   "source": [
    "Variable declaration is: Type name;  \n",
    "for example:  \n",
    "```int num;```\n",
    "\n"
   ]
  },
  {
   "cell_type": "code",
   "execution_count": 1,
   "metadata": {},
   "outputs": [
    {
     "name": "stdout",
     "output_type": "stream",
     "text": [
      "printprintln\n",
      "println2\n"
     ]
    }
   ],
   "source": [
    "// Variable declaration is:\n",
    "// Type name;\n",
    "int num;\n",
    "\n",
    "// Variable initialization is:\n",
    "// name = value;\n",
    "num = 5;\n",
    "\n",
    "// Both can be combined with:\n",
    "// Type name = value;\n",
    "int x = 4;\n",
    "\n",
    "// Basic math is performed with:\n",
    "// + - * / %\n",
    "x + 5 == 4 + 5;\n",
    "// Modulo (%) is the remainder in division, ex:\n",
    "x % 3 == 1;\n",
    "\n",
    "// A shorthand for changing a variables value:\n",
    "x = x + 5;\n",
    "x += 5;\n",
    "\n",
    "// Output is done like this:\n",
    "System.out.print(\"print\");\n",
    "System.out.println(\"println\");\n",
    "System.out.println(\"println2\");\n",
    "// print() is used for printing text without moving to the next line\n",
    "// println() prints the text, and \"presses enter\""
   ]
  },
  {
   "cell_type": "markdown",
   "metadata": {},
   "source": [
    "## Primitive Types\n",
    "The types to be seen on the exam are:\n",
    "+ `int` (whole numbers)\n",
    "+ `double` (decimal numbers)\n",
    "+ `boolean` (true or false values)\n",
    "+ `char` (single characters)\n",
    "+ not primitive but important: `String` (text, an array of characters)\n",
    "\n",
    "Tips:\n",
    "+ Integer division will truncate the result, as seen below. For precision beyond whole numbers, use doubles\n",
    "+ Generally, one uses `==` to compare two variables. With strings you have to use `.equals()` to check equality\n",
    "+ Boolean logic is easiest to evaluate inside out\n",
    "+ When converting between types, you must cast to the desired type\n",
    "\n",
    "Boolean comparison table:\n",
    "\n",
    "|   a   | operator |   b   | result |\n",
    "|:-----:|:--------:|:-----:|:------:|\n",
    "|  true |    &&    |  true |  true  |\n",
    "| false |    &&    | false |  false |\n",
    "|  true |   \\|\\|   |  true |  true  |\n",
    "| false |   \\|\\|   | false |  false |\n",
    "|  true |    &&    | false |  false |\n",
    "|  true |   \\|\\|   | false |  true  |\n"
   ]
  },
  {
   "cell_type": "code",
   "execution_count": 2,
   "metadata": {},
   "outputs": [
    {
     "name": "stdout",
     "output_type": "stream",
     "text": [
      "--Integers--\n",
      "5 + 2 = 7\n",
      "5 - 2 = 3\n",
      "5 * 2 = 10\n",
      "5 / 2 = 2\n"
     ]
    }
   ],
   "source": [
    "// Integer usage:\n",
    "int a = 5;\n",
    "int b = 2;\n",
    "\n",
    "System.out.println(\"--Integers--\");\n",
    "System.out.println(a + \" + \" + b + \" = \" + (a + b));\n",
    "System.out.println(a + \" - \" + b + \" = \" + (a - b));\n",
    "System.out.println(a + \" * \" + b + \" = \" + (a * b));\n",
    "System.out.println(a + \" / \" + b + \" = \" + (a / b));"
   ]
  },
  {
   "cell_type": "code",
   "execution_count": 3,
   "metadata": {},
   "outputs": [
    {
     "name": "stdout",
     "output_type": "stream",
     "text": [
      "--Doubles--\n",
      "20.0 + 0.5 = 20.5\n",
      "20.0 - 0.5 = 19.5\n",
      "20.0 * 0.5 = 10.0\n",
      "20.0 / 0.5 = 40.0\n"
     ]
    }
   ],
   "source": [
    "// Double usage:\n",
    "double a = 20;\n",
    "double b = 0.5;\n",
    "\n",
    "System.out.println(\"--Doubles--\");\n",
    "System.out.println(a + \" + \" + b + \" = \" + (a + b));\n",
    "System.out.println(a + \" - \" + b + \" = \" + (a - b));\n",
    "System.out.println(a + \" * \" + b + \" = \" + (a * b));\n",
    "System.out.println(a + \" / \" + b + \" = \" + (a / b));"
   ]
  },
  {
   "cell_type": "code",
   "execution_count": 4,
   "metadata": {},
   "outputs": [
    {
     "name": "stdout",
     "output_type": "stream",
     "text": [
      "--Booleans--\n",
      "Negation:\n",
      "!true = false\n",
      "!false = true\n",
      "\n",
      "Boolean Operators:\n",
      "true  && true = true\n",
      "false && false = false\n",
      "\n",
      "true  || true = true\n",
      "false || false = false\n",
      "\n",
      "true && false = false\n",
      "true || false = true\n"
     ]
    }
   ],
   "source": [
    "// Boolean usage:\n",
    "boolean a = true;\n",
    "boolean b = false;\n",
    "\n",
    "System.out.println(\"--Booleans--\");\n",
    "System.out.println(\"Negation:\");\n",
    "System.out.println(\"!\" + a + \" = \" + !a);\n",
    "System.out.println(\"!\" + b + \" = \" + !b);\n",
    "System.out.println();\n",
    "\n",
    "System.out.println(\"Boolean Operators:\");\n",
    "System.out.println(a + \"  && \" + a + \" = \" + (a && a));\n",
    "System.out.println(b + \" && \" + b + \" = \" + (b && b));\n",
    "System.out.println();\n",
    "\n",
    "System.out.println(a + \"  || \" + a + \" = \" + (a || a));\n",
    "System.out.println(b + \" || \" + b + \" = \" + (b || b));\n",
    "System.out.println();\n",
    "\n",
    "System.out.println(a + \" && \" + b + \" = \" + (a && b));\n",
    "System.out.println(a + \" || \" + b + \" = \" + (a || b));"
   ]
  },
  {
   "cell_type": "code",
   "execution_count": 5,
   "metadata": {},
   "outputs": [
    {
     "name": "stdout",
     "output_type": "stream",
     "text": [
      "Name: Will\n"
     ]
    }
   ],
   "source": [
    "// Basic String usage\n",
    "String name = \"Will\";\n",
    "System.out.println(\"Name: \" + name);"
   ]
  },
  {
   "cell_type": "code",
   "execution_count": 6,
   "metadata": {},
   "outputs": [
    {
     "name": "stdout",
     "output_type": "stream",
     "text": [
      "10 -> 10.0\n",
      "2.5 -> 2\n"
     ]
    }
   ],
   "source": [
    "// Casting\n",
    "int x = 10;\n",
    "double newx = (double) (x);\n",
    "\n",
    "double y = 2.5;\n",
    "int newy = (int) (y);\n",
    "\n",
    "System.out.println(x + \" -> \" + newx);\n",
    "System.out.println(y + \" -> \" + newy);"
   ]
  },
  {
   "cell_type": "markdown",
   "metadata": {},
   "source": [
    "## Using Objects\n",
    "Here we'll review some commonly used objects such as the `Math`, `Scanner`, `String` classes.\n",
    "+ `Math`: has methods for more complex mathematical tasks.\n",
    "+ `Scanner`: used to get input from the console or files\n",
    "+ `String`: array of chars for storing text\n",
    "\n",
    "Important String methods:\n",
    "+ `length()`: returns the length of the string. ex: `\"abcde\".length()` will be `5`\n",
    "+ `substring(int a)`: returns the string starting at index `a`. ex: `\"01234\".substring(2)` will be `\"234\"`\n",
    "+ `substring(int a, int b)`: returns the string starting at index `a`, ending at `b` exclusive. ex: `\"01234\".substring(1, 3)` will be `\"12\"`\n",
    "+ `charAt(int a)`: returns the char at index `a`. ex: `\"abcde\".charAt(2)` is `'c'`\n",
    "+ `indexOf(String target)`: returns index of `target` in the string, and `-1` if not found. ex: `\"abc april\".indexOf(\"bc\")` is `1`\n",
    "+ `split(String delimiter)`: splits the string up by the delimeter and returns the array of results. ex: `\"word1 word2\".split(\" \")` is `[\"word1\", \"word2\"]`\n",
    "\n",
    "    Note: you can add strings or characters with +. ex: `\"abc\" + \"def\"` will give `\"abcdef\"`"
   ]
  },
  {
   "cell_type": "code",
   "execution_count": 7,
   "metadata": {},
   "outputs": [
    {
     "name": "stdout",
     "output_type": "stream",
     "text": [
      "sqrt(9): 3.0\n",
      "3^2 or pow(3, 2): 9.0\n",
      "ln(2.71828) -> log(): 0.999999327347282\n",
      "log10(1000) -> log10(): 3.0\n",
      "\n",
      "random in [0.0, 1.0) -> random(): 0.95824668787821\n",
      "random in [0.0, 5.0) -> random() * 5: 1.6931239557560436\n",
      "random in [-1.0, 1.0) -> random() * 2 - 1.0: -0.6449271552879705\n",
      "\n",
      "Math.PI: 3.141592653589793\n",
      "Math.E: 2.718281828459045\n"
     ]
    }
   ],
   "source": [
    "// Common Math methods:\n",
    "System.out.println(\"sqrt(9): \" + Math.sqrt(9));\n",
    "System.out.println(\"3^2 or pow(3, 2): \" + Math.pow(3, 2));\n",
    "System.out.println(\"ln(2.71828) -> log(): \" + Math.log(2.71828));\n",
    "System.out.println(\"log10(1000) -> log10(): \" + Math.log10(1000));\n",
    "System.out.println();\n",
    "\n",
    "System.out.println(\"random in [0.0, 1.0) -> random(): \" + Math.random());\n",
    "System.out.println(\"random in [0.0, 5.0) -> random() * 5: \" + Math.random() * 5);\n",
    "System.out.println(\"random in [-1.0, 1.0) -> random() * 2 - 1.0: \" + (Math.random() * 2 - 1.0));\n",
    "System.out.println();\n",
    "\n",
    "// Common Math constants:\n",
    "System.out.println(\"Math.PI: \" + Math.PI);\n",
    "System.out.println(\"Math.E: \" + Math.E);"
   ]
  },
  {
   "cell_type": "code",
   "execution_count": 8,
   "metadata": {},
   "outputs": [
    {
     "name": "stdout",
     "output_type": "stream",
     "text": [
      "Enter a number: "
     ]
    },
    {
     "name": "stdin",
     "output_type": "stream",
     "text": [
      " 5\n"
     ]
    },
    {
     "name": "stdout",
     "output_type": "stream",
     "text": [
      "Number you entered: 5\n"
     ]
    }
   ],
   "source": [
    "// Scanner usage:\n",
    "// 1. Declare and initialize for console input\n",
    "// Type name = new Type();\n",
    "Scanner console = new Scanner(System.in);\n",
    "\n",
    "// Show prompt\n",
    "System.out.print(\"Enter a number: \");\n",
    "// calling console.nextInt() will get int from user\n",
    "// console.next() gives a word\n",
    "// console.nextDouble() gives double\n",
    "int x = console.nextInt();\n",
    "System.out.println(\"Number you entered: \" + x);"
   ]
  },
  {
   "cell_type": "code",
   "execution_count": 9,
   "metadata": {},
   "outputs": [
    {
     "name": "stdout",
     "output_type": "stream",
     "text": [
      "apcs\n",
      "will\n",
      "be\n"
     ]
    }
   ],
   "source": [
    "// Scanner can also be used on a string\n",
    "String text = \"apcs will be the easiest exam\";\n",
    "Scanner textReader = new Scanner(text);\n",
    "\n",
    "System.out.println(textReader.next());\n",
    "System.out.println(textReader.next());\n",
    "System.out.println(textReader.next());"
   ]
  },
  {
   "cell_type": "code",
   "execution_count": 10,
   "metadata": {},
   "outputs": [
    {
     "name": "stdout",
     "output_type": "stream",
     "text": [
      "index:01234567890123456789012345678\n",
      "text: apcs will be the easiest exam\n",
      "text.length(): 29\n",
      "text.substring(11): e the easiest exam\n",
      "text.substring(0, 11): apcs will b\n",
      "text.charAt(13): t\n",
      "text.indexOf(\"easiest\"): 17\n",
      "text.split(\" \"): [apcs, will, be, the, easiest, exam]\n",
      "text.split(\"e\"): [apcs will b,  th,  , asi, st , xam]\n"
     ]
    }
   ],
   "source": [
    "// String usage\n",
    "String text = \"apcs will be the easiest exam\";\n",
    "\n",
    "// Adding indexes for reference:\n",
    "System.out.print(\"index:\");\n",
    "for (int i = 0; i < text.length(); i++) System.out.print(i % 10);\n",
    "System.out.println(\"\\ntext: \" + text);\n",
    "System.out.println(\"text.length(): \" + text.length());\n",
    "System.out.println(\"text.substring(11): \" + text.substring(11));\n",
    "System.out.println(\"text.substring(0, 11): \" + text.substring(0, 11));\n",
    "System.out.println(\"text.charAt(13): \" + text.charAt(13));\n",
    "System.out.println(\"text.indexOf(\\\"easiest\\\"): \" + text.indexOf(\"easiest\"));\n",
    "System.out.println(\"text.split(\\\" \\\"): \" + Arrays.toString(text.split(\" \")));\n",
    "System.out.println(\"text.split(\\\"e\\\"): \" + Arrays.toString(text.split(\"e\")));"
   ]
  },
  {
   "cell_type": "markdown",
   "metadata": {},
   "source": [
    "## Booleans and Conditionals\n",
    "In this section we will review boolean usage and conditional statements\n",
    "\n",
    "Conditional structures:\n",
    "+ `if (this) {A}`: if `this` is true, then run `A`\n",
    "+ `if (this) {A} else {B}`: same as first, but if `this` is false, run `B`. Only A or B can be run, not both\n",
    "+ `if (this) {A} else if (that) {B} else {C}` same as second but if `that` is true, then run `B`. Only one of A, B, or C can be run."
   ]
  },
  {
   "cell_type": "code",
   "execution_count": 11,
   "metadata": {},
   "outputs": [
    {
     "name": "stdout",
     "output_type": "stream",
     "text": [
      "x + 1 == y\n"
     ]
    }
   ],
   "source": [
    "int x = 5;\n",
    "int y = 6;\n",
    "\n",
    "if (x == y) {\n",
    "    System.out.println(\"x == y\");\n",
    "} else if (x + 1 == y) {\n",
    "    System.out.println(\"x + 1 == y\");\n",
    "} else {\n",
    "    System.out.println(\"x != y and x + 1 != y\");\n",
    "}"
   ]
  },
  {
   "cell_type": "code",
   "execution_count": 12,
   "metadata": {},
   "outputs": [
    {
     "name": "stdout",
     "output_type": "stream",
     "text": [
      "x == y - 1\n",
      "x + 1 == y\n"
     ]
    }
   ],
   "source": [
    "if (x == y - 1) {\n",
    "    System.out.println(\"x == y - 1\");\n",
    "}\n",
    "if (x + 1 == y) {\n",
    "    System.out.println(\"x + 1 == y\");\n",
    "}"
   ]
  },
  {
   "cell_type": "code",
   "execution_count": 13,
   "metadata": {},
   "outputs": [
    {
     "name": "stdout",
     "output_type": "stream",
     "text": [
      "a is not b\n",
      "a or b is true\n"
     ]
    }
   ],
   "source": [
    "boolean a = true;\n",
    "boolean b = false;\n",
    "if (a && b) {\n",
    "    System.out.println(\"a and b are true\");\n",
    "} else if (a != b) {\n",
    "    System.out.println(\"a is not b\");\n",
    "}\n",
    "\n",
    "if (a || b) {\n",
    "    System.out.println(\"a or b is true\");\n",
    "}"
   ]
  },
  {
   "cell_type": "markdown",
   "metadata": {},
   "source": [
    "## Iteration\n",
    "Here we'll review iterative structures such as the for loop and while loop\n",
    "\n",
    "Tips:\n",
    "+ Use for loop for a known number of iterations\n",
    "+ Use while loop for an unknown number"
   ]
  },
  {
   "cell_type": "markdown",
   "metadata": {},
   "source": [
    "For Loop Syntax:\n",
    "\n",
    "```java\n",
    "for (init; condition; statement) {\n",
    "    code;\n",
    "}\n",
    "```\n",
    "\n",
    "Upon reaching the for loop, `init` is run. Then, if `condition` is true, `code` will be run. Next, `statement` is run. `condition` is checked again and the process cycles.\n",
    "\n",
    "`init`->`condition`->`code`->`statement`->`condition`"
   ]
  },
  {
   "cell_type": "code",
   "execution_count": 14,
   "metadata": {},
   "outputs": [
    {
     "name": "stdout",
     "output_type": "stream",
     "text": [
      "01234"
     ]
    }
   ],
   "source": [
    "for (int i = 0; i < 5; i++) {\n",
    "    System.out.print(i);\n",
    "}"
   ]
  },
  {
   "cell_type": "code",
   "execution_count": 15,
   "metadata": {},
   "outputs": [
    {
     "name": "stdout",
     "output_type": "stream",
     "text": [
      "10 9 8 7 6 5 4 3 2 1 "
     ]
    }
   ],
   "source": [
    "for (int i = 10; i > 0; i--) {\n",
    "    System.out.print(i + \" \");\n",
    "}"
   ]
  },
  {
   "cell_type": "code",
   "execution_count": 16,
   "metadata": {},
   "outputs": [
    {
     "name": "stdout",
     "output_type": "stream",
     "text": [
      "1 2 4 8 "
     ]
    }
   ],
   "source": [
    "for (int i = 1; i < 10; i *= 2) {\n",
    "    System.out.print(i + \" \");\n",
    "}"
   ]
  },
  {
   "cell_type": "markdown",
   "metadata": {},
   "source": [
    "While Loop Syntax:\n",
    "\n",
    "    while (condition) {\n",
    "        code;\n",
    "    }\n",
    "\n",
    "Upon reaching the loop, if `condition` is true, `code` will be run. Then `condition` is checked again, and it keeps running."
   ]
  },
  {
   "cell_type": "code",
   "execution_count": 17,
   "metadata": {},
   "outputs": [
    {
     "name": "stdout",
     "output_type": "stream",
     "text": [
      "People: 10\n",
      "Pizzas: 0\n"
     ]
    }
   ],
   "source": [
    "int numPeople = 10;\n",
    "int numPizzas = 0;\n",
    "\n",
    "System.out.println(\"People: \" + numPeople);\n",
    "System.out.println(\"Pizzas: \" + numPizzas);"
   ]
  },
  {
   "cell_type": "code",
   "execution_count": 18,
   "metadata": {},
   "outputs": [
    {
     "name": "stdout",
     "output_type": "stream",
     "text": [
      "People: 10\n",
      "Pizzas: 10\n"
     ]
    }
   ],
   "source": [
    "while (numPizzas < numPeople) {\n",
    "    numPizzas += 1;\n",
    "}\n",
    "\n",
    "System.out.println(\"People: \" + numPeople);\n",
    "System.out.println(\"Pizzas: \" + numPizzas);"
   ]
  },
  {
   "cell_type": "code",
   "execution_count": 19,
   "metadata": {},
   "outputs": [
    {
     "name": "stdout",
     "output_type": "stream",
     "text": [
      "People: 0\n",
      "Pizzas: 10\n"
     ]
    }
   ],
   "source": [
    "while (numPeople > 0) {\n",
    "    numPeople -= 1;\n",
    "}\n",
    "\n",
    "System.out.println(\"People: \" + numPeople);\n",
    "System.out.println(\"Pizzas: \" + numPizzas);"
   ]
  },
  {
   "cell_type": "markdown",
   "metadata": {},
   "source": [
    "## Writing Classes\n",
    "This is by far one of the most intricate topics in APCS, so we will do an in depth review.\n",
    "\n",
    "A class is a \"template\" for an object. For example, if `Car` is a class, then the object is `myHondaAccord`. An object (instance) is an example of a class. `lily` is an instance of the `Dog` class. Classes and objects are defined by 2 things, state and behavior. These are represented with fields (variables) and methods respectively. Take an example `Dog` class:"
   ]
  },
  {
   "cell_type": "code",
   "execution_count": 20,
   "metadata": {},
   "outputs": [],
   "source": [
    "// For convenience, I will not make the instance fields public. Know that they 100% should be private.\n",
    "// Class header\n",
    "public class Dog {\n",
    "    // Instance Fields\n",
    "    String name;\n",
    "    \n",
    "    // Static Fields\n",
    "    static int numLegs = 4;\n",
    "    static String foodType = \"meat\";\n",
    "    \n",
    "    // Constructor\n",
    "    public Dog(String name) {\n",
    "        this.name = name;\n",
    "    }\n",
    "    \n",
    "    // Instance method bark\n",
    "    public void bark() {\n",
    "        System.out.println(\"woof\");\n",
    "    }\n",
    "    \n",
    "    // Static method getFoodType\n",
    "    public static String getFoodType() {\n",
    "        return foodType;\n",
    "    }\n",
    "    \n",
    "    public String toString() {\n",
    "        return name + \" (Dog)\";\n",
    "    }\n",
    "}"
   ]
  },
  {
   "cell_type": "markdown",
   "metadata": {},
   "source": [
    "### Fields\n",
    "The distinction between classes and objects allows us to define 2 types of fields and methods: static (shared) and instance (individual). A static field in the `Dog` class could be `hasTail`, a boolean with a value that is the same across all instances. An instance field would be `name`, which varies depending on which instance (dog) you are talking about. The purpose of static fields is general values such as constants across all instances. Static fields can be accessed with `Type.field` while instance fields are accessed with `object.field`. Another thing to note is that there is only one value of a static field that is used by all instances, where instance fields are unique and private. Take a look at this example:"
   ]
  },
  {
   "cell_type": "code",
   "execution_count": 21,
   "metadata": {},
   "outputs": [
    {
     "name": "stdout",
     "output_type": "stream",
     "text": [
      "Lily\n",
      "4\n",
      "4\n"
     ]
    },
    {
     "ename": "CompilationException",
     "evalue": "",
     "output_type": "error",
     "traceback": [
      "\u001b[1m\u001b[30m|   \u001b[1m\u001b[30mSystem.out.println(\u001b[0m\u001b[1m\u001b[30m\u001b[41mDog.name\u001b[0m\u001b[1m\u001b[30m); // does not exist, will cause error\u001b[0m",
      "\u001b[1m\u001b[31mnon-static variable name cannot be referenced from a static context\u001b[0m",
      ""
     ]
    }
   ],
   "source": [
    "Dog lily = new Dog(\"Lily\");\n",
    "\n",
    "System.out.println(lily.name); // \"Lily\"\n",
    "System.out.println(Dog.numLegs); // 4\n",
    "\n",
    "System.out.println(lily.numLegs); // 4\n",
    "System.out.println(Dog.name); // does not exist, will cause error"
   ]
  },
  {
   "cell_type": "markdown",
   "metadata": {},
   "source": [
    "### Methods\n",
    "We have the same thing with methods, where static methods are shared across instances and vice versa. Static methods are used for utility operations whereas instance methods are used when the method needs information from instance fields for an action specific to one instance. Here's an example:"
   ]
  },
  {
   "cell_type": "code",
   "execution_count": 22,
   "metadata": {},
   "outputs": [
    {
     "name": "stdout",
     "output_type": "stream",
     "text": [
      "meat\n",
      "meat\n",
      "woof\n"
     ]
    },
    {
     "ename": "CompilationException",
     "evalue": "",
     "output_type": "error",
     "traceback": [
      "\u001b[1m\u001b[30m|   \u001b[1m\u001b[30m\u001b[0m\u001b[1m\u001b[30m\u001b[41mDog.bark\u001b[0m\u001b[1m\u001b[30m(); // this doesn't work, will cause error\u001b[0m",
      "\u001b[1m\u001b[31mnon-static method bark() cannot be referenced from a static context\u001b[0m",
      ""
     ]
    }
   ],
   "source": [
    "Dog lily = new Dog(\"Lily\");\n",
    "\n",
    "System.out.println(Dog.getFoodType()); // \"meat\"\n",
    "System.out.println(lily.getFoodType()); // \"meat\"\n",
    "\n",
    "lily.bark(); // Lily barks\n",
    "Dog.bark(); // this doesn't work, will cause error"
   ]
  },
  {
   "cell_type": "markdown",
   "metadata": {},
   "source": [
    "### Constructors\n",
    "Here is the constructor from the `Dog` class, let's take a closer look at it.\n",
    "```java\n",
    "public Dog(String name) {\n",
    "    this.name = name;\n",
    "}\n",
    "```\n",
    "The important things here are the header and the instance field assignment. The header for any constructor will be `public Type(params)` where `Type` is the name of the class. This is an important thing to remember as it's different from other methods.\n",
    "\n",
    "Next, look at the line in the constructor. Since we have a collision between the instance field `name` and the parameter `name`, how will the computer know which is which? We use the `this` keyword to solve this. The `this` keyword will always refer to this instance, so in the line in the constructor we are setting the instance field `this.name` to the parameter `name`'s value."
   ]
  },
  {
   "cell_type": "markdown",
   "metadata": {},
   "source": [
    "### toString()\n",
    "The `toString` method is an optional method included in classes that is used whenever an instance is referred to as a string. This is more straightforward than it sounds. Look at the `toString` for the `Dog` class:\n",
    "\n",
    "```java\n",
    "public String toString() {\n",
    "    return name + \" (Dog)\";\n",
    "}\n",
    "```\n",
    "\n",
    "Whenever this method is called, it will return the `name` of the `Dog` it was called on plus some clarification as to the class. The toString method makes it much easier to display the state of the instance. We can see this in action with a simple comparison between the `Dog` toString and the default `Object` toString:"
   ]
  },
  {
   "cell_type": "code",
   "execution_count": 23,
   "metadata": {},
   "outputs": [
    {
     "name": "stdout",
     "output_type": "stream",
     "text": [
      "Lily (Dog)\n",
      "java.lang.Object@a8bd490\n"
     ]
    }
   ],
   "source": [
    "Dog lily = new Dog(\"Lily\");\n",
    "Object bad = new Object();\n",
    "\n",
    "System.out.println(lily);\n",
    "System.out.println(bad);"
   ]
  },
  {
   "cell_type": "markdown",
   "metadata": {},
   "source": [
    "### A proper example\n",
    "This is a `Vector` class I wrote awhile ago, and I think it would be useful to read through the annotations and understand the design choices made."
   ]
  },
  {
   "cell_type": "code",
   "execution_count": 24,
   "metadata": {},
   "outputs": [],
   "source": [
    "public class Vector {\n",
    "    // Instance fields\n",
    "    private int x;\n",
    "    private int y;\n",
    "    \n",
    "    // i and j basis vectors, static because constants\n",
    "    public static final Vector i = new Vector(1, 0);\n",
    "    public static final Vector j = new Vector(0, 1);\n",
    "\n",
    "    // Constructor to take (x, y) and make new vector\n",
    "    public Vector(int x, int y) {\n",
    "        this.x = x;\n",
    "        this.y = y;\n",
    "    }\n",
    "    \n",
    "    // Constructor to duplicate another vector\n",
    "    public Vector(Vector v) {\n",
    "        this.x = v.getX();\n",
    "        this.y = v.getY();\n",
    "    }\n",
    "\n",
    "    // Find the distance from this vector to the other:\n",
    "    // d(v1, v2) = sqrt((dx)^2 + (dy)^2)\n",
    "    public double getDistance(Vector v) {\n",
    "        int dx = v.getX() - x;\n",
    "        int dy = v.getY() - y;\n",
    "        return Math.sqrt(dx * dx + dy * dy);\n",
    "    }\n",
    "\n",
    "    // Add two vectors: V1 + V2 = [V1x + V2x, V1y + V2y]\n",
    "    public Vector addVector(Vector v) {\n",
    "        int newX = x + v.getX();\n",
    "        int newY = y + v.getY();\n",
    "        return new Vector(newX, newY);\n",
    "    }\n",
    "\n",
    "    // Scale a vector: V * k = [Vx * k, Vy * k]\n",
    "    public Vector scale(double scalar) {\n",
    "        int newX = (int) (x * scalar);\n",
    "        int newY = (int) (y * scalar);\n",
    "        return new Vector(newX, newY);\n",
    "    }\n",
    "\n",
    "    // Get the X value\n",
    "    public int getX() { return x; }\n",
    "\n",
    "    // Get the Y value\n",
    "    public int getY() { return y; }\n",
    "\n",
    "    // Show vector state\n",
    "    public String toString() {\n",
    "        return \"(\" + x + \", \" + y + \")\";\n",
    "    }\n",
    "}"
   ]
  },
  {
   "cell_type": "code",
   "execution_count": 25,
   "metadata": {},
   "outputs": [
    {
     "name": "stdout",
     "output_type": "stream",
     "text": [
      "i: (1, 0)\n",
      "j: (0, 1)\n",
      "\n",
      "V1: (1, 2)\n",
      "V2: (4, 6)\n",
      "\n",
      "V1.getDistance(V2): 5.0\n",
      "V1.addVector(V2): (5, 8)\n",
      "V1.scale(2): (2, 4)\n"
     ]
    }
   ],
   "source": [
    "Vector V1 = new Vector(1, 2);\n",
    "Vector V2 = new Vector(4, 6);\n",
    "System.out.println(\"i: \" + Vector.i);\n",
    "System.out.println(\"j: \" + Vector.j);\n",
    "System.out.println();\n",
    "\n",
    "System.out.println(\"V1: \" + V1);\n",
    "System.out.println(\"V2: \" + V2);\n",
    "System.out.println();\n",
    "\n",
    "System.out.println(\"V1.getDistance(V2): \" + V1.getDistance(V2));\n",
    "System.out.println(\"V1.addVector(V2): \" + V1.addVector(V2));\n",
    "System.out.println(\"V1.scale(2): \" + V1.scale(2));"
   ]
  }
 ],
 "metadata": {
  "kernelspec": {
   "display_name": "Java",
   "language": "java",
   "name": "java"
  },
  "language_info": {
   "codemirror_mode": "java",
   "file_extension": ".jshell",
   "mimetype": "text/x-java-source",
   "name": "Java",
   "pygments_lexer": "java",
   "version": "11.0.5+10"
  }
 },
 "nbformat": 4,
 "nbformat_minor": 4
}
